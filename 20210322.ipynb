{
  "nbformat": 4,
  "nbformat_minor": 0,
  "metadata": {
    "colab": {
      "name": "20210322.ipynb",
      "provenance": [],
      "authorship_tag": "ABX9TyOclQfjidMDAGFaL1CIzXY4",
      "include_colab_link": true
    },
    "kernelspec": {
      "name": "python3",
      "display_name": "Python 3"
    },
    "language_info": {
      "name": "python"
    }
  },
  "cells": [
    {
      "cell_type": "markdown",
      "metadata": {
        "id": "view-in-github",
        "colab_type": "text"
      },
      "source": [
        "<a href=\"https://colab.research.google.com/github/iamwilliamfoster/class2021spring/blob/main/20210322.ipynb\" target=\"_parent\"><img src=\"https://colab.research.google.com/assets/colab-badge.svg\" alt=\"Open In Colab\"/></a>"
      ]
    },
    {
      "cell_type": "code",
      "metadata": {
        "colab": {
          "base_uri": "https://localhost:8080/"
        },
        "id": "wTTi8LITZN-e",
        "outputId": "49488022-6f6d-46b4-c313-6ec577903a37"
      },
      "source": [
        "def func1(x,a,b):\n",
        "  return a * x + b\n",
        "\n",
        "def func2(x,a,b,c):\n",
        "  return a*x**2 + b*x + c\n",
        "\n",
        "print(func1(2,3,4))\n",
        "\n",
        "print(func2(2,3,4,5))"
      ],
      "execution_count": 15,
      "outputs": [
        {
          "output_type": "stream",
          "text": [
            "10\n",
            "25\n"
          ],
          "name": "stdout"
        }
      ]
    },
    {
      "cell_type": "code",
      "metadata": {
        "id": "QqZE7SJzXAfl"
      },
      "source": [
        "ADD = 'add'\n",
        "MINUS = 'minus'\n",
        "MULT = 'mult'\n",
        "DIV = 'div'\n",
        "\n",
        "def math_func(x, y, func = ADD):\n",
        "  if func == ADD:\n",
        "    return x + y\n",
        "  elif func == MINUS:\n",
        "    return x - y\n",
        "  elif func == MULT:\n",
        "    return x * y\n",
        "  elif func == DIV:\n",
        "    if y == 0:\n",
        "      print(\"Divide by zero!\")\n",
        "      return 0\n",
        "    return x / y\n",
        "  else:\n",
        "    print(\"Appropriate function not provided\")\n",
        "    return 0"
      ],
      "execution_count": 1,
      "outputs": []
    },
    {
      "cell_type": "code",
      "metadata": {
        "colab": {
          "base_uri": "https://localhost:8080/"
        },
        "id": "BEsLmcDMX7K-",
        "outputId": "43333dd4-3404-4cae-bf96-561c5b1b5931"
      },
      "source": [
        "for f in [ADD, MINUS, MULT, DIV, \"cats\"]:\n",
        "  c = math_func(3, 4, f)\n",
        "  print(c)\n",
        "c = math_func(3, 4)\n",
        "print(c)\n",
        "c = math_func(0, 4, DIV)\n",
        "print(c)"
      ],
      "execution_count": 11,
      "outputs": [
        {
          "output_type": "stream",
          "text": [
            "7\n",
            "-1\n",
            "12\n",
            "0.75\n",
            "Appropriate function not provided\n",
            "0\n",
            "7\n",
            "Divide by zero!\n",
            "0\n"
          ],
          "name": "stdout"
        }
      ]
    }
  ]
}