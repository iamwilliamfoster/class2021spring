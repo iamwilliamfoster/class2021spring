{
  "nbformat": 4,
  "nbformat_minor": 0,
  "metadata": {
    "colab": {
      "name": "20210322.ipynb",
      "provenance": [],
      "authorship_tag": "ABX9TyNsNkYWAWcdXyCZXUhGenqs",
      "include_colab_link": true
    },
    "kernelspec": {
      "name": "python3",
      "display_name": "Python 3"
    },
    "language_info": {
      "name": "python"
    }
  },
  "cells": [
    {
      "cell_type": "markdown",
      "metadata": {
        "id": "view-in-github",
        "colab_type": "text"
      },
      "source": [
        "<a href=\"https://colab.research.google.com/github/iamwilliamfoster/class2021spring/blob/main/20210322.ipynb\" target=\"_parent\"><img src=\"https://colab.research.google.com/assets/colab-badge.svg\" alt=\"Open In Colab\"/></a>"
      ]
    },
    {
      "cell_type": "code",
      "metadata": {
        "id": "QqZE7SJzXAfl"
      },
      "source": [
        "ADD = 'add'\n",
        "MINUS = 'minus'\n",
        "MULT = 'mult'\n",
        "DIV = 'div'\n",
        "def math_func(x, y, func = ADD):\n",
        "  if func == ADD:\n",
        "    return x + y\n",
        "  elif func == MINUS:\n",
        "    return x - y\n",
        "  elif func == MULT:\n",
        "    return x * y\n",
        "  elif func == DIV:\n",
        "    if y == 0:\n",
        "      print(\"Divide by zero!\")\n",
        "      return 0\n",
        "    return x / y\n",
        "  else:\n",
        "    print(\"Appropriate function not provided\")\n",
        "    return 0"
      ],
      "execution_count": 1,
      "outputs": []
    },
    {
      "cell_type": "code",
      "metadata": {
        "colab": {
          "base_uri": "https://localhost:8080/"
        },
        "id": "BEsLmcDMX7K-",
        "outputId": "f39854d1-ebd1-46d0-8327-6ab7afb14eac"
      },
      "source": [
        "c = math_func(3, 4)\n",
        "print(c)\n",
        "c = math_func(3, 4, MINUS)\n",
        "print(c)\n",
        "c = math_func(3, 4, MULT)\n",
        "print(c)\n",
        "c = math_func(3, 4, DIV)\n",
        "print(c)\n",
        "c = math_func(0, 4, DIV)\n",
        "print(c)\n",
        "c = math_func(3, 4, \"cats\")\n",
        "print(c)"
      ],
      "execution_count": 7,
      "outputs": [
        {
          "output_type": "stream",
          "text": [
            "7\n",
            "-1\n",
            "12\n",
            "0.75\n",
            "Divide by zero!\n",
            "0\n",
            "Appropriate function not provided\n",
            "0\n"
          ],
          "name": "stdout"
        }
      ]
    }
  ]
}