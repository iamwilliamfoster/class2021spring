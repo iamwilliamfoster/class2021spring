{
  "nbformat": 4,
  "nbformat_minor": 0,
  "metadata": {
    "colab": {
      "name": "test.ipynb",
      "provenance": [],
      "authorship_tag": "ABX9TyPlK/skL/bOiH+4pkl+dfAj",
      "include_colab_link": true
    },
    "kernelspec": {
      "name": "python3",
      "display_name": "Python 3"
    }
  },
  "cells": [
    {
      "cell_type": "markdown",
      "metadata": {
        "id": "view-in-github",
        "colab_type": "text"
      },
      "source": [
        "<a href=\"https://colab.research.google.com/github/iamwilliamfoster/class2021spring/blob/main/test.ipynb\" target=\"_parent\"><img src=\"https://colab.research.google.com/assets/colab-badge.svg\" alt=\"Open In Colab\"/></a>"
      ]
    },
    {
      "cell_type": "code",
      "metadata": {
        "colab": {
          "base_uri": "https://localhost:8080/"
        },
        "id": "JD14f6dUT6YV",
        "outputId": "202bee46-a2cd-4db9-d57a-8d1c592dfde3"
      },
      "source": [
        "a = 1 \r\n",
        "b = 1\r\n",
        "c = a + b\r\n",
        "c"
      ],
      "execution_count": 1,
      "outputs": [
        {
          "output_type": "execute_result",
          "data": {
            "text/plain": [
              "2"
            ]
          },
          "metadata": {
            "tags": []
          },
          "execution_count": 1
        }
      ]
    },
    {
      "cell_type": "markdown",
      "metadata": {
        "id": "qXwoHNUhVBh7"
      },
      "source": [
        "#오늘 배운것: \r\n",
        "##github 계정 만들기, login 해서 repository 만들기 (이름은 class2021Spring)\r\n",
        "\r\n",
        "\r\n",
        "\r\n",
        "1.   python\r\n",
        "2.   markdown\r\n",
        "\r\n"
      ]
    }
  ]
}