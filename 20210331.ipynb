{
  "nbformat": 4,
  "nbformat_minor": 0,
  "metadata": {
    "colab": {
      "name": "20210331.ipynb",
      "provenance": [],
      "authorship_tag": "ABX9TyMfgKpyYGp7LJJQYySVKi8Q",
      "include_colab_link": true
    },
    "kernelspec": {
      "name": "python3",
      "display_name": "Python 3"
    },
    "language_info": {
      "name": "python"
    }
  },
  "cells": [
    {
      "cell_type": "markdown",
      "metadata": {
        "id": "view-in-github",
        "colab_type": "text"
      },
      "source": [
        "<a href=\"https://colab.research.google.com/github/iamwilliamfoster/class2021spring/blob/main/20210331.ipynb\" target=\"_parent\"><img src=\"https://colab.research.google.com/assets/colab-badge.svg\" alt=\"Open In Colab\"/></a>"
      ]
    },
    {
      "cell_type": "markdown",
      "metadata": {
        "id": "JAYyi_Lg4iju"
      },
      "source": [
        "아\n",
        "\n",
        "Pitch - 106.61 Hz\n",
        "\n",
        "Intensity - 76.14 Hz\n",
        "\n",
        "Formant F1 - 684.12 Hz\n",
        "\n",
        "Formant F2 - 1236.95 Hz\n",
        "\n",
        "Duration - .89 seconds\n",
        "\n",
        "에\n",
        "\n",
        "Pitch - 104.93 Hz\n",
        "\n",
        "Intensity - 76.27 Hz\n",
        "\n",
        "Formant F1 - 469.29 Hz\n",
        "\n",
        "Formant F2 - 1902.49 Hz\n",
        "\n",
        "Duration - .946 seconds"
      ]
    }
  ]
}