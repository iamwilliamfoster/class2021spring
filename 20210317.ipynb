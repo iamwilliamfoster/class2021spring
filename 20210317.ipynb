{
  "nbformat": 4,
  "nbformat_minor": 0,
  "metadata": {
    "colab": {
      "name": "20210317.ipynb",
      "provenance": [],
      "authorship_tag": "ABX9TyO+wUy+sVATpJd2hyuZ2eTV",
      "include_colab_link": true
    },
    "kernelspec": {
      "name": "python3",
      "display_name": "Python 3"
    }
  },
  "cells": [
    {
      "cell_type": "markdown",
      "metadata": {
        "id": "view-in-github",
        "colab_type": "text"
      },
      "source": [
        "<a href=\"https://colab.research.google.com/github/iamwilliamfoster/class2021spring/blob/main/20210317.ipynb\" target=\"_parent\"><img src=\"https://colab.research.google.com/assets/colab-badge.svg\" alt=\"Open In Colab\"/></a>"
      ]
    },
    {
      "cell_type": "code",
      "metadata": {
        "colab": {
          "base_uri": "https://localhost:8080/"
        },
        "id": "WpRCb5xCuq4d",
        "outputId": "814a3ec2-6f62-4528-9b95-fdfe13e8ec38"
      },
      "source": [
        "for i in range(2,8):\r\n",
        "  for v in range(3,5):\r\n",
        "    x = i * v\r\n",
        "    if x > 10:\r\n",
        "      print (x)"
      ],
      "execution_count": 3,
      "outputs": [
        {
          "output_type": "stream",
          "text": [
            "12\n",
            "12\n",
            "16\n",
            "15\n",
            "20\n",
            "18\n",
            "24\n",
            "21\n",
            "28\n"
          ],
          "name": "stdout"
        }
      ]
    },
    {
      "cell_type": "code",
      "metadata": {
        "colab": {
          "base_uri": "https://localhost:8080/"
        },
        "id": "dW4zbPnRvZmY",
        "outputId": "da8ddf98-da80-49c0-dac4-e34dda8d3105"
      },
      "source": [
        "a = [i for i in range(1,20) if i%2]\r\n",
        "b = [i for i in a if i%5 and i>4]\r\n",
        "print(a)\r\n",
        "print(b)"
      ],
      "execution_count": 7,
      "outputs": [
        {
          "output_type": "stream",
          "text": [
            "[1, 3, 5, 7, 9, 11, 13, 15, 17, 19]\n",
            "[7, 9, 11, 13, 17, 19]\n"
          ],
          "name": "stdout"
        }
      ]
    },
    {
      "cell_type": "code",
      "metadata": {
        "colab": {
          "base_uri": "https://localhost:8080/"
        },
        "id": "a6rEO1Clv8nW",
        "outputId": "72c5b729-24a1-436a-a87e-c63dedd84bf4"
      },
      "source": [
        "a = ['cat','dog','bear','bird','fish']\r\n",
        "b = [i for i in a if len(i) > 3]\r\n",
        "for idx, x in enumerate(b, 1):\r\n",
        "  print(idx, x)"
      ],
      "execution_count": 11,
      "outputs": [
        {
          "output_type": "stream",
          "text": [
            "1 bear\n",
            "2 bird\n",
            "3 fish\n"
          ],
          "name": "stdout"
        }
      ]
    }
  ]
}