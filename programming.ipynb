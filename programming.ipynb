{
  "nbformat": 4,
  "nbformat_minor": 0,
  "metadata": {
    "colab": {
      "name": "programming.ipynb",
      "provenance": [],
      "authorship_tag": "ABX9TyO4UgL7ykWnLBfkvK+QK+5G",
      "include_colab_link": true
    },
    "kernelspec": {
      "name": "python3",
      "display_name": "Python 3"
    }
  },
  "cells": [
    {
      "cell_type": "markdown",
      "metadata": {
        "id": "view-in-github",
        "colab_type": "text"
      },
      "source": [
        "<a href=\"https://colab.research.google.com/github/iamwilliamfoster/class2021spring/blob/main/programming.ipynb\" target=\"_parent\"><img src=\"https://colab.research.google.com/assets/colab-badge.svg\" alt=\"Open In Colab\"/></a>"
      ]
    },
    {
      "cell_type": "code",
      "metadata": {
        "id": "epWxi1Fzo4nU"
      },
      "source": [
        ""
      ],
      "execution_count": null,
      "outputs": []
    },
    {
      "cell_type": "markdown",
      "metadata": {
        "id": "tMTDTtLNo8cE"
      },
      "source": [
        "변수: Variables take an input and then can be used later. In python all variables are can be modified and the type of variables are defined by what is placed in them. You can place any sort of thing from text, integers, list, to even functions and full objects into a variable. You can also add variables to each other or throw them into classes or functions.\r\n",
        "\r\n",
        "제어문: Control methods such as: if, for, while. Using these you can do things such as repetition and execute conditional commands based on criteria that you set. \r\n",
        "\r\n",
        "함수: Functions are blocks of code that optionally take inputs and optionally provide a return output. The variables you create inside a function (generally) do not exist outside of the function. You can use functions to easily reuse code instead of repeating the same lines of code over and over again, this makes the code more readable."
      ]
    }
  ]
}